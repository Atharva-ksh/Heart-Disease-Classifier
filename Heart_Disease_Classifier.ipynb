{
 "cells": [
  {
   "cell_type": "code",
   "execution_count": 1,
   "metadata": {},
   "outputs": [],
   "source": [
    "import numpy as np\n",
    "import pandas as pd\n",
    "import matplotlib.pyplot as plt\n",
    "import seaborn as sns\n",
    "sns.set()\n",
    "\n",
    "import warnings\n",
    "warnings.filterwarnings('ignore')"
   ]
  },
  {
   "cell_type": "code",
   "execution_count": 2,
   "metadata": {},
   "outputs": [
    {
     "data": {
      "text/html": [
       "<div>\n",
       "<style scoped>\n",
       "    .dataframe tbody tr th:only-of-type {\n",
       "        vertical-align: middle;\n",
       "    }\n",
       "\n",
       "    .dataframe tbody tr th {\n",
       "        vertical-align: top;\n",
       "    }\n",
       "\n",
       "    .dataframe thead th {\n",
       "        text-align: right;\n",
       "    }\n",
       "</style>\n",
       "<table border=\"1\" class=\"dataframe\">\n",
       "  <thead>\n",
       "    <tr style=\"text-align: right;\">\n",
       "      <th></th>\n",
       "      <th>age</th>\n",
       "      <th>sex</th>\n",
       "      <th>cp</th>\n",
       "      <th>trestbps</th>\n",
       "      <th>chol</th>\n",
       "      <th>fbs</th>\n",
       "      <th>restecg</th>\n",
       "      <th>thalach</th>\n",
       "      <th>exang</th>\n",
       "      <th>oldpeak</th>\n",
       "      <th>slope</th>\n",
       "      <th>ca</th>\n",
       "      <th>thal</th>\n",
       "      <th>target</th>\n",
       "    </tr>\n",
       "  </thead>\n",
       "  <tbody>\n",
       "    <tr>\n",
       "      <th>0</th>\n",
       "      <td>63</td>\n",
       "      <td>1</td>\n",
       "      <td>3</td>\n",
       "      <td>145</td>\n",
       "      <td>233</td>\n",
       "      <td>1</td>\n",
       "      <td>0</td>\n",
       "      <td>150</td>\n",
       "      <td>0</td>\n",
       "      <td>2.3</td>\n",
       "      <td>0</td>\n",
       "      <td>0</td>\n",
       "      <td>1</td>\n",
       "      <td>0</td>\n",
       "    </tr>\n",
       "    <tr>\n",
       "      <th>1</th>\n",
       "      <td>37</td>\n",
       "      <td>1</td>\n",
       "      <td>2</td>\n",
       "      <td>130</td>\n",
       "      <td>250</td>\n",
       "      <td>0</td>\n",
       "      <td>1</td>\n",
       "      <td>187</td>\n",
       "      <td>0</td>\n",
       "      <td>3.5</td>\n",
       "      <td>0</td>\n",
       "      <td>0</td>\n",
       "      <td>2</td>\n",
       "      <td>0</td>\n",
       "    </tr>\n",
       "    <tr>\n",
       "      <th>2</th>\n",
       "      <td>41</td>\n",
       "      <td>0</td>\n",
       "      <td>1</td>\n",
       "      <td>130</td>\n",
       "      <td>204</td>\n",
       "      <td>0</td>\n",
       "      <td>0</td>\n",
       "      <td>172</td>\n",
       "      <td>0</td>\n",
       "      <td>1.4</td>\n",
       "      <td>2</td>\n",
       "      <td>0</td>\n",
       "      <td>2</td>\n",
       "      <td>0</td>\n",
       "    </tr>\n",
       "    <tr>\n",
       "      <th>3</th>\n",
       "      <td>56</td>\n",
       "      <td>1</td>\n",
       "      <td>1</td>\n",
       "      <td>120</td>\n",
       "      <td>236</td>\n",
       "      <td>0</td>\n",
       "      <td>1</td>\n",
       "      <td>178</td>\n",
       "      <td>0</td>\n",
       "      <td>0.8</td>\n",
       "      <td>2</td>\n",
       "      <td>0</td>\n",
       "      <td>2</td>\n",
       "      <td>0</td>\n",
       "    </tr>\n",
       "    <tr>\n",
       "      <th>4</th>\n",
       "      <td>57</td>\n",
       "      <td>0</td>\n",
       "      <td>0</td>\n",
       "      <td>120</td>\n",
       "      <td>354</td>\n",
       "      <td>0</td>\n",
       "      <td>1</td>\n",
       "      <td>163</td>\n",
       "      <td>1</td>\n",
       "      <td>0.6</td>\n",
       "      <td>2</td>\n",
       "      <td>0</td>\n",
       "      <td>2</td>\n",
       "      <td>0</td>\n",
       "    </tr>\n",
       "  </tbody>\n",
       "</table>\n",
       "</div>"
      ],
      "text/plain": [
       "   age  sex  cp  trestbps  chol  fbs  restecg  thalach  exang  oldpeak  slope  \\\n",
       "0   63    1   3       145   233    1        0      150      0      2.3      0   \n",
       "1   37    1   2       130   250    0        1      187      0      3.5      0   \n",
       "2   41    0   1       130   204    0        0      172      0      1.4      2   \n",
       "3   56    1   1       120   236    0        1      178      0      0.8      2   \n",
       "4   57    0   0       120   354    0        1      163      1      0.6      2   \n",
       "\n",
       "   ca  thal  target  \n",
       "0   0     1       0  \n",
       "1   0     2       0  \n",
       "2   0     2       0  \n",
       "3   0     2       0  \n",
       "4   0     2       0  "
      ]
     },
     "execution_count": 2,
     "metadata": {},
     "output_type": "execute_result"
    }
   ],
   "source": [
    "data = pd.read_csv('heart_preprocessed.csv')\n",
    "data.head()"
   ]
  },
  {
   "cell_type": "code",
   "execution_count": 3,
   "metadata": {},
   "outputs": [],
   "source": [
    "# Separating features and target variable\n",
    "X = data.drop('target', axis=1)\n",
    "y = data['target']"
   ]
  },
  {
   "cell_type": "code",
   "execution_count": 4,
   "metadata": {},
   "outputs": [
    {
     "name": "stdout",
     "output_type": "stream",
     "text": [
      "<class 'pandas.core.frame.DataFrame'>\n",
      "<class 'pandas.core.series.Series'>\n"
     ]
    }
   ],
   "source": [
    "# Splitting into training and testing dataset\n",
    "from sklearn.model_selection import train_test_split\n",
    "X_train, X_test, y_train, y_test = train_test_split(X, y, test_size=0.2, random_state = 1000)\n",
    "print(type(X_train))\n",
    "print(type(y_train))"
   ]
  },
  {
   "cell_type": "code",
   "execution_count": 5,
   "metadata": {},
   "outputs": [
    {
     "name": "stdout",
     "output_type": "stream",
     "text": [
      "<class 'numpy.ndarray'>\n"
     ]
    }
   ],
   "source": [
    "# Standardizing our data\n",
    "from sklearn.preprocessing import StandardScaler\n",
    "\n",
    "scaler = StandardScaler()\n",
    "scaler.fit(X_train)\n",
    "X_train_scaled = scaler.transform(X_train)\n",
    "X_test_scaled = scaler.transform(X_test)\n",
    "print(type(X_train_scaled))"
   ]
  },
  {
   "cell_type": "markdown",
   "metadata": {},
   "source": [
    "## Creating Base Model"
   ]
  },
  {
   "cell_type": "markdown",
   "metadata": {},
   "source": [
    "## Logistic Regression:"
   ]
  },
  {
   "cell_type": "code",
   "execution_count": 6,
   "metadata": {},
   "outputs": [
    {
     "name": "stdout",
     "output_type": "stream",
     "text": [
      "Training Accuracy:  0.8760330578512396\n"
     ]
    }
   ],
   "source": [
    "from sklearn.linear_model import LogisticRegression\n",
    "\n",
    "Reg = LogisticRegression()\n",
    "Reg.fit(X_train_scaled, y_train)\n",
    "print('Training Accuracy: ',Reg.score(X_train_scaled, y_train))"
   ]
  },
  {
   "cell_type": "code",
   "execution_count": 7,
   "metadata": {
    "scrolled": true
   },
   "outputs": [
    {
     "data": {
      "text/html": [
       "<div>\n",
       "<style scoped>\n",
       "    .dataframe tbody tr th:only-of-type {\n",
       "        vertical-align: middle;\n",
       "    }\n",
       "\n",
       "    .dataframe tbody tr th {\n",
       "        vertical-align: top;\n",
       "    }\n",
       "\n",
       "    .dataframe thead th {\n",
       "        text-align: right;\n",
       "    }\n",
       "</style>\n",
       "<table border=\"1\" class=\"dataframe\">\n",
       "  <thead>\n",
       "    <tr style=\"text-align: right;\">\n",
       "      <th></th>\n",
       "      <th>Features</th>\n",
       "      <th>Coefficients</th>\n",
       "    </tr>\n",
       "  </thead>\n",
       "  <tbody>\n",
       "    <tr>\n",
       "      <th>0</th>\n",
       "      <td>age</td>\n",
       "      <td>0.016931</td>\n",
       "    </tr>\n",
       "    <tr>\n",
       "      <th>1</th>\n",
       "      <td>sex</td>\n",
       "      <td>0.840808</td>\n",
       "    </tr>\n",
       "    <tr>\n",
       "      <th>2</th>\n",
       "      <td>cp</td>\n",
       "      <td>-0.892122</td>\n",
       "    </tr>\n",
       "    <tr>\n",
       "      <th>3</th>\n",
       "      <td>trestbps</td>\n",
       "      <td>0.279955</td>\n",
       "    </tr>\n",
       "    <tr>\n",
       "      <th>4</th>\n",
       "      <td>chol</td>\n",
       "      <td>0.041359</td>\n",
       "    </tr>\n",
       "  </tbody>\n",
       "</table>\n",
       "</div>"
      ],
      "text/plain": [
       "   Features  Coefficients\n",
       "0       age      0.016931\n",
       "1       sex      0.840808\n",
       "2        cp     -0.892122\n",
       "3  trestbps      0.279955\n",
       "4      chol      0.041359"
      ]
     },
     "execution_count": 7,
     "metadata": {},
     "output_type": "execute_result"
    }
   ],
   "source": [
    "# Interpreting Coefficients\n",
    "\n",
    "coef = pd.DataFrame()\n",
    "coef['Features'] = X.columns.values\n",
    "coef['Coefficients'] = np.transpose(Reg.coef_)\n",
    "coef.head()"
   ]
  },
  {
   "cell_type": "code",
   "execution_count": 8,
   "metadata": {},
   "outputs": [],
   "source": [
    "exp = np.exp(coef.Coefficients)"
   ]
  },
  {
   "cell_type": "code",
   "execution_count": 9,
   "metadata": {},
   "outputs": [],
   "source": [
    "coef['Odds Ratio'] = exp"
   ]
  },
  {
   "cell_type": "code",
   "execution_count": 10,
   "metadata": {
    "scrolled": true
   },
   "outputs": [
    {
     "data": {
      "text/html": [
       "<div>\n",
       "<style scoped>\n",
       "    .dataframe tbody tr th:only-of-type {\n",
       "        vertical-align: middle;\n",
       "    }\n",
       "\n",
       "    .dataframe tbody tr th {\n",
       "        vertical-align: top;\n",
       "    }\n",
       "\n",
       "    .dataframe thead th {\n",
       "        text-align: right;\n",
       "    }\n",
       "</style>\n",
       "<table border=\"1\" class=\"dataframe\">\n",
       "  <thead>\n",
       "    <tr style=\"text-align: right;\">\n",
       "      <th></th>\n",
       "      <th>Features</th>\n",
       "      <th>Coefficients</th>\n",
       "      <th>Odds Ratio</th>\n",
       "    </tr>\n",
       "  </thead>\n",
       "  <tbody>\n",
       "    <tr>\n",
       "      <th>1</th>\n",
       "      <td>sex</td>\n",
       "      <td>0.840808</td>\n",
       "      <td>2.318240</td>\n",
       "    </tr>\n",
       "    <tr>\n",
       "      <th>11</th>\n",
       "      <td>ca</td>\n",
       "      <td>0.775146</td>\n",
       "      <td>2.170910</td>\n",
       "    </tr>\n",
       "    <tr>\n",
       "      <th>9</th>\n",
       "      <td>oldpeak</td>\n",
       "      <td>0.735741</td>\n",
       "      <td>2.087029</td>\n",
       "    </tr>\n",
       "    <tr>\n",
       "      <th>12</th>\n",
       "      <td>thal</td>\n",
       "      <td>0.652405</td>\n",
       "      <td>1.920154</td>\n",
       "    </tr>\n",
       "    <tr>\n",
       "      <th>8</th>\n",
       "      <td>exang</td>\n",
       "      <td>0.645179</td>\n",
       "      <td>1.906328</td>\n",
       "    </tr>\n",
       "    <tr>\n",
       "      <th>3</th>\n",
       "      <td>trestbps</td>\n",
       "      <td>0.279955</td>\n",
       "      <td>1.323070</td>\n",
       "    </tr>\n",
       "    <tr>\n",
       "      <th>4</th>\n",
       "      <td>chol</td>\n",
       "      <td>0.041359</td>\n",
       "      <td>1.042227</td>\n",
       "    </tr>\n",
       "    <tr>\n",
       "      <th>0</th>\n",
       "      <td>age</td>\n",
       "      <td>0.016931</td>\n",
       "      <td>1.017075</td>\n",
       "    </tr>\n",
       "    <tr>\n",
       "      <th>5</th>\n",
       "      <td>fbs</td>\n",
       "      <td>-0.144191</td>\n",
       "      <td>0.865723</td>\n",
       "    </tr>\n",
       "    <tr>\n",
       "      <th>6</th>\n",
       "      <td>restecg</td>\n",
       "      <td>-0.315886</td>\n",
       "      <td>0.729142</td>\n",
       "    </tr>\n",
       "    <tr>\n",
       "      <th>7</th>\n",
       "      <td>thalach</td>\n",
       "      <td>-0.448271</td>\n",
       "      <td>0.638732</td>\n",
       "    </tr>\n",
       "    <tr>\n",
       "      <th>10</th>\n",
       "      <td>slope</td>\n",
       "      <td>-0.524453</td>\n",
       "      <td>0.591879</td>\n",
       "    </tr>\n",
       "    <tr>\n",
       "      <th>2</th>\n",
       "      <td>cp</td>\n",
       "      <td>-0.892122</td>\n",
       "      <td>0.409785</td>\n",
       "    </tr>\n",
       "  </tbody>\n",
       "</table>\n",
       "</div>"
      ],
      "text/plain": [
       "    Features  Coefficients  Odds Ratio\n",
       "1        sex      0.840808    2.318240\n",
       "11        ca      0.775146    2.170910\n",
       "9    oldpeak      0.735741    2.087029\n",
       "12      thal      0.652405    1.920154\n",
       "8      exang      0.645179    1.906328\n",
       "3   trestbps      0.279955    1.323070\n",
       "4       chol      0.041359    1.042227\n",
       "0        age      0.016931    1.017075\n",
       "5        fbs     -0.144191    0.865723\n",
       "6    restecg     -0.315886    0.729142\n",
       "7    thalach     -0.448271    0.638732\n",
       "10     slope     -0.524453    0.591879\n",
       "2         cp     -0.892122    0.409785"
      ]
     },
     "execution_count": 10,
     "metadata": {},
     "output_type": "execute_result"
    }
   ],
   "source": [
    "coef.sort_values('Odds Ratio', ascending=False)\n",
    "\n"
   ]
  },
  {
   "cell_type": "code",
   "execution_count": 11,
   "metadata": {
    "scrolled": true
   },
   "outputs": [
    {
     "name": "stdout",
     "output_type": "stream",
     "text": [
      "Training Accuracy:  0.8894009216589862\n",
      "Validation Accuracy:  0.8\n",
      "------------------------------------------------\n",
      "Training Accuracy:  0.880184331797235\n",
      "Validation Accuracy:  0.8\n",
      "------------------------------------------------\n",
      "Training Accuracy:  0.8532110091743119\n",
      "Validation Accuracy:  0.8333333333333334\n",
      "------------------------------------------------\n",
      "Training Accuracy:  0.8669724770642202\n",
      "Validation Accuracy:  0.9583333333333334\n",
      "------------------------------------------------\n",
      "Training Accuracy:  0.8623853211009175\n",
      "Validation Accuracy:  0.9166666666666666\n",
      "------------------------------------------------\n",
      "Training Accuracy:  0.8715596330275229\n",
      "Validation Accuracy:  0.8333333333333334\n",
      "------------------------------------------------\n",
      "Training Accuracy:  0.8807339449541285\n",
      "Validation Accuracy:  0.8333333333333334\n",
      "------------------------------------------------\n",
      "Training Accuracy:  0.8807339449541285\n",
      "Validation Accuracy:  0.8333333333333334\n",
      "------------------------------------------------\n",
      "Training Accuracy:  0.8715596330275229\n",
      "Validation Accuracy:  0.8333333333333334\n",
      "------------------------------------------------\n",
      "Training Accuracy:  0.8669724770642202\n",
      "Validation Accuracy:  0.7916666666666666\n",
      "------------------------------------------------\n"
     ]
    }
   ],
   "source": [
    "from sklearn.model_selection import KFold \n",
    "\n",
    "# We use K Fold Validation\n",
    "kf = KFold(n_splits=10, random_state=1000, shuffle=False)\n",
    "acc=[]\n",
    "\n",
    "for train_index,test_index in kf.split(X_train_scaled, y_train):\n",
    "    X_kf_train, X_kf_test = X_train_scaled[train_index], X_train_scaled[test_index]\n",
    "    y_kf_train, y_kf_test = y_train.iloc[train_index], y_train.iloc[test_index]\n",
    "    reg_new = LogisticRegression().fit(X_kf_train, y_kf_train)\n",
    "    print('Training Accuracy: ', reg_new.score(X_kf_train, y_kf_train))\n",
    "    print('Validation Accuracy: ', reg_new.score(X_kf_test, y_kf_test))\n",
    "    print('------------------------------------------------')\n",
    "    acc.append(reg_new.score(X_kf_test, y_kf_test))\n"
   ]
  },
  {
   "cell_type": "code",
   "execution_count": 12,
   "metadata": {},
   "outputs": [
    {
     "name": "stdout",
     "output_type": "stream",
     "text": [
      "Mean Accuracy after K Fold Validation:  0.8433333333333334\n"
     ]
    }
   ],
   "source": [
    "print('Mean Accuracy after K Fold Validation: ', np.mean(acc))"
   ]
  },
  {
   "cell_type": "markdown",
   "metadata": {},
   "source": [
    "## SVM:"
   ]
  },
  {
   "cell_type": "code",
   "execution_count": 13,
   "metadata": {
    "scrolled": true
   },
   "outputs": [
    {
     "name": "stdout",
     "output_type": "stream",
     "text": [
      "Training Accuracy:  0.9308755760368663\n",
      "Validation Accuracy:  0.84\n",
      "------------------------------------------------\n",
      "Training Accuracy:  0.9447004608294931\n",
      "Validation Accuracy:  0.72\n",
      "------------------------------------------------\n",
      "Training Accuracy:  0.9357798165137615\n",
      "Validation Accuracy:  0.9166666666666666\n",
      "------------------------------------------------\n",
      "Training Accuracy:  0.9403669724770642\n",
      "Validation Accuracy:  0.9166666666666666\n",
      "------------------------------------------------\n",
      "Training Accuracy:  0.9403669724770642\n",
      "Validation Accuracy:  0.8333333333333334\n",
      "------------------------------------------------\n",
      "Training Accuracy:  0.9403669724770642\n",
      "Validation Accuracy:  0.875\n",
      "------------------------------------------------\n",
      "Training Accuracy:  0.9311926605504587\n",
      "Validation Accuracy:  0.875\n",
      "------------------------------------------------\n",
      "Training Accuracy:  0.9403669724770642\n",
      "Validation Accuracy:  0.875\n",
      "------------------------------------------------\n",
      "Training Accuracy:  0.944954128440367\n",
      "Validation Accuracy:  0.8333333333333334\n",
      "------------------------------------------------\n",
      "Training Accuracy:  0.944954128440367\n",
      "Validation Accuracy:  0.8333333333333334\n",
      "------------------------------------------------\n"
     ]
    }
   ],
   "source": [
    "from sklearn import svm\n",
    "\n",
    "# SVM model trained over entire training set\n",
    "Svm_Model = svm.SVC().fit(X_train_scaled, y_train)\n",
    "\n",
    "# We use K Fold Validation\n",
    "kf = KFold(n_splits=10, random_state=1000, shuffle=False)\n",
    "acc=[]\n",
    "\n",
    "for train_index,test_index in kf.split(X_train_scaled, y_train):\n",
    "    X_kf_train, X_kf_test = X_train_scaled[train_index], X_train_scaled[test_index]\n",
    "    y_kf_train, y_kf_test = y_train.iloc[train_index], y_train.iloc[test_index]\n",
    "    svm_model_new = svm.SVC().fit(X_kf_train, y_kf_train)\n",
    "    print('Training Accuracy: ', svm_model_new.score(X_kf_train, y_kf_train))\n",
    "    print('Validation Accuracy: ', svm_model_new.score(X_kf_test, y_kf_test))\n",
    "    print('------------------------------------------------')\n",
    "    acc.append(svm_model_new.score(X_kf_test, y_kf_test))"
   ]
  },
  {
   "cell_type": "code",
   "execution_count": 14,
   "metadata": {},
   "outputs": [
    {
     "name": "stdout",
     "output_type": "stream",
     "text": [
      "Mean Accuracy after K Fold Validation:  0.8518333333333332\n"
     ]
    }
   ],
   "source": [
    "print('Mean Accuracy after K Fold Validation: ', np.mean(acc))"
   ]
  },
  {
   "cell_type": "markdown",
   "metadata": {},
   "source": [
    "## Random Forest Classifier:"
   ]
  },
  {
   "cell_type": "code",
   "execution_count": 15,
   "metadata": {
    "scrolled": true
   },
   "outputs": [
    {
     "name": "stdout",
     "output_type": "stream",
     "text": [
      "Training Accuracy:  0.9907834101382489\n",
      "Validation Accuracy:  0.8\n",
      "------------------------------------------------\n",
      "Training Accuracy:  0.9861751152073732\n",
      "Validation Accuracy:  0.76\n",
      "------------------------------------------------\n",
      "Training Accuracy:  0.9770642201834863\n",
      "Validation Accuracy:  0.7916666666666666\n",
      "------------------------------------------------\n",
      "Training Accuracy:  0.981651376146789\n",
      "Validation Accuracy:  0.8333333333333334\n",
      "------------------------------------------------\n",
      "Training Accuracy:  0.981651376146789\n",
      "Validation Accuracy:  0.875\n",
      "------------------------------------------------\n",
      "Training Accuracy:  0.9908256880733946\n",
      "Validation Accuracy:  0.875\n",
      "------------------------------------------------\n",
      "Training Accuracy:  0.9908256880733946\n",
      "Validation Accuracy:  0.875\n",
      "------------------------------------------------\n",
      "Training Accuracy:  0.9862385321100917\n",
      "Validation Accuracy:  0.875\n",
      "------------------------------------------------\n",
      "Training Accuracy:  0.9908256880733946\n",
      "Validation Accuracy:  0.7916666666666666\n",
      "------------------------------------------------\n",
      "Training Accuracy:  0.981651376146789\n",
      "Validation Accuracy:  0.7916666666666666\n",
      "------------------------------------------------\n"
     ]
    }
   ],
   "source": [
    "from sklearn.ensemble import RandomForestClassifier\n",
    "\n",
    "# RFC Model trained over entire training set\n",
    "RFC = RandomForestClassifier(n_estimators=500, min_samples_leaf=2).fit(X_train_scaled, y_train)\n",
    "\n",
    "# We use K Fold Validation\n",
    "kf = KFold(n_splits=10, random_state=1000, shuffle=False)\n",
    "acc=[]\n",
    "\n",
    "for train_index,test_index in kf.split(X_train_scaled, y_train):\n",
    "    X_kf_train, X_kf_test = X_train_scaled[train_index], X_train_scaled[test_index]\n",
    "    y_kf_train, y_kf_test = y_train.iloc[train_index], y_train.iloc[test_index]\n",
    "    rfc_new = RandomForestClassifier(n_estimators=500, min_samples_leaf=2).fit(X_kf_train, y_kf_train)\n",
    "    print('Training Accuracy: ', rfc_new.score(X_kf_train, y_kf_train))\n",
    "    print('Validation Accuracy: ', rfc_new.score(X_kf_test, y_kf_test))\n",
    "    print('------------------------------------------------')\n",
    "    acc.append(rfc_new.score(X_kf_test, y_kf_test))\n",
    "\n"
   ]
  },
  {
   "cell_type": "code",
   "execution_count": 16,
   "metadata": {},
   "outputs": [
    {
     "name": "stdout",
     "output_type": "stream",
     "text": [
      "Mean Accuracy after K Fold Validation:  0.8268333333333334\n"
     ]
    }
   ],
   "source": [
    "print('Mean Accuracy after K Fold Validation: ', np.mean(acc))"
   ]
  },
  {
   "cell_type": "markdown",
   "metadata": {},
   "source": [
    "# Testing"
   ]
  },
  {
   "cell_type": "code",
   "execution_count": 17,
   "metadata": {},
   "outputs": [
    {
     "name": "stdout",
     "output_type": "stream",
     "text": [
      "Testing Accuracy for Logistic Regression : 0.8032786885245902\n",
      "Testing Accuracy for Support Vector Machine : 0.7704918032786885\n",
      "Testing Accuracy for Random Forest Classifier : 0.7868852459016393\n"
     ]
    }
   ],
   "source": [
    "print('Testing Accuracy for Logistic Regression :', Reg.score(X_test_scaled, y_test))\n",
    "print('Testing Accuracy for Support Vector Machine :', Svm_Model.score(X_test_scaled, y_test))\n",
    "print('Testing Accuracy for Random Forest Classifier :', RFC.score(X_test_scaled, y_test))"
   ]
  },
  {
   "cell_type": "code",
   "execution_count": 18,
   "metadata": {},
   "outputs": [],
   "source": [
    "from sklearn.metrics import precision_score\n",
    "from sklearn.metrics import recall_score\n",
    "\n",
    "\n",
    "scores = [Reg.score(X_test_scaled, y_test),\n",
    "          Svm_Model.score(X_test_scaled, y_test),\n",
    "          RFC.score(X_test_scaled, y_test) ]\n",
    "\n",
    "precision = [precision_score(y_test, Reg.predict(X_test_scaled)),\n",
    "             precision_score(y_test, Svm_Model.predict(X_test_scaled)),\n",
    "             precision_score(y_test, RFC.predict(X_test_scaled))]\n",
    "\n",
    "recall = [recall_score(y_test, Reg.predict(X_test_scaled)),\n",
    "          recall_score(y_test, Svm_Model.predict(X_test_scaled)),\n",
    "          recall_score(y_test, RFC.predict(X_test_scaled))]"
   ]
  },
  {
   "cell_type": "code",
   "execution_count": 19,
   "metadata": {},
   "outputs": [
    {
     "data": {
      "text/html": [
       "<div>\n",
       "<style scoped>\n",
       "    .dataframe tbody tr th:only-of-type {\n",
       "        vertical-align: middle;\n",
       "    }\n",
       "\n",
       "    .dataframe tbody tr th {\n",
       "        vertical-align: top;\n",
       "    }\n",
       "\n",
       "    .dataframe thead th {\n",
       "        text-align: right;\n",
       "    }\n",
       "</style>\n",
       "<table border=\"1\" class=\"dataframe\">\n",
       "  <thead>\n",
       "    <tr style=\"text-align: right;\">\n",
       "      <th></th>\n",
       "      <th>Model</th>\n",
       "      <th>Accuracy</th>\n",
       "      <th>Precision</th>\n",
       "      <th>Recall</th>\n",
       "    </tr>\n",
       "  </thead>\n",
       "  <tbody>\n",
       "    <tr>\n",
       "      <th>0</th>\n",
       "      <td>Logistic Regression</td>\n",
       "      <td>0.803279</td>\n",
       "      <td>0.846154</td>\n",
       "      <td>0.733333</td>\n",
       "    </tr>\n",
       "    <tr>\n",
       "      <th>1</th>\n",
       "      <td>Support Vector Machine</td>\n",
       "      <td>0.770492</td>\n",
       "      <td>0.785714</td>\n",
       "      <td>0.733333</td>\n",
       "    </tr>\n",
       "    <tr>\n",
       "      <th>2</th>\n",
       "      <td>Random Forest Classifier</td>\n",
       "      <td>0.786885</td>\n",
       "      <td>0.793103</td>\n",
       "      <td>0.766667</td>\n",
       "    </tr>\n",
       "  </tbody>\n",
       "</table>\n",
       "</div>"
      ],
      "text/plain": [
       "                      Model  Accuracy  Precision    Recall\n",
       "0       Logistic Regression  0.803279   0.846154  0.733333\n",
       "1    Support Vector Machine  0.770492   0.785714  0.733333\n",
       "2  Random Forest Classifier  0.786885   0.793103  0.766667"
      ]
     },
     "execution_count": 19,
     "metadata": {},
     "output_type": "execute_result"
    }
   ],
   "source": [
    "\n",
    "Summary = pd.DataFrame()\n",
    "Summary['Model'] = ['Logistic Regression', 'Support Vector Machine', 'Random Forest Classifier']\n",
    "Summary['Accuracy'] = scores\n",
    "Summary['Precision'] = precision\n",
    "Summary['Recall'] = recall\n",
    "\n",
    "Summary.head()"
   ]
  }
 ],
 "metadata": {
  "kernelspec": {
   "display_name": "atharva",
   "language": "python",
   "name": "atharva"
  },
  "language_info": {
   "codemirror_mode": {
    "name": "ipython",
    "version": 3
   },
   "file_extension": ".py",
   "mimetype": "text/x-python",
   "name": "python",
   "nbconvert_exporter": "python",
   "pygments_lexer": "ipython3",
   "version": "3.7.6"
  }
 },
 "nbformat": 4,
 "nbformat_minor": 4
}
